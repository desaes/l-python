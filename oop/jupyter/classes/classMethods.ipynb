{
 "cells": [
  {
   "cell_type": "code",
   "execution_count": 8,
   "id": "55f3c9ae-24a5-49a7-9853-fc7a03e579f2",
   "metadata": {},
   "outputs": [
    {
     "data": {
      "text/plain": [
       "'A Mercedez is driving. And it is <__main__.MercedezBenz object at 0x7f8464791120>\\n'"
      ]
     },
     "execution_count": 8,
     "metadata": {},
     "output_type": "execute_result"
    }
   ],
   "source": [
    "class MercedezBenz:\n",
    "    doors = 4\n",
    "    wheels = 4\n",
    "    \n",
    "    def drive(self):\n",
    "        return f\"A Mercedez is driving. And it is {self}\\n\"\n",
    "    \n",
    "\n"
   ]
  },
  {
   "cell_type": "code",
   "execution_count": 10,
   "id": "8418ab82-0c94-4300-9e3b-cbe338d3df5f",
   "metadata": {
    "tags": []
   },
   "outputs": [
    {
     "data": {
      "text/plain": [
       "'A Mercedez is driving. And it is <__main__.MercedezBenz object at 0x7f8464414e20>\\n'"
      ]
     },
     "execution_count": 10,
     "metadata": {},
     "output_type": "execute_result"
    }
   ],
   "source": [
    "m1 = MercedezBenz()\n",
    "m1.drive()\n",
    "\n",
    "m2 = MercedezBenz()\n",
    "m2.drive()"
   ]
  },
  {
   "cell_type": "code",
   "execution_count": null,
   "id": "ff15ace5-c1de-49f3-8dc7-c58ed42e764d",
   "metadata": {},
   "outputs": [],
   "source": []
  }
 ],
 "metadata": {
  "kernelspec": {
   "display_name": "Python 3 (ipykernel)",
   "language": "python",
   "name": "python3"
  },
  "language_info": {
   "codemirror_mode": {
    "name": "ipython",
    "version": 3
   },
   "file_extension": ".py",
   "mimetype": "text/x-python",
   "name": "python",
   "nbconvert_exporter": "python",
   "pygments_lexer": "ipython3",
   "version": "3.10.9"
  }
 },
 "nbformat": 4,
 "nbformat_minor": 5
}
